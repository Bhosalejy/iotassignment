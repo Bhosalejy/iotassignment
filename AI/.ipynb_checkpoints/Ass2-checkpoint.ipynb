{
 "cells": [
  {
   "cell_type": "code",
   "execution_count": 124,
   "id": "d945233c-bee3-4ae1-b16f-0e6060e811ef",
   "metadata": {},
   "outputs": [],
   "source": [
    "# 1. Write a Pandas program to create and display a one-dimensional array-like object containing an array of data.\n"
   ]
  },
  {
   "cell_type": "code",
   "execution_count": 125,
   "id": "c65dcf6c-9dc1-4c81-8414-aad3653ee908",
   "metadata": {},
   "outputs": [],
   "source": [
    "import numpy as np\n",
    "import pandas as pd"
   ]
  },
  {
   "cell_type": "code",
   "execution_count": 126,
   "id": "4e5388bd-f9ea-4d91-a17e-8b32e059136b",
   "metadata": {},
   "outputs": [
    {
     "name": "stdout",
     "output_type": "stream",
     "text": [
      "0     2\n",
      "1     4\n",
      "2     6\n",
      "3     8\n",
      "4    10\n",
      "dtype: int64\n"
     ]
    }
   ],
   "source": [
    "n1 = pd.Series([2, 4, 6, 8, 10])\n",
    "print(n1)"
   ]
  },
  {
   "cell_type": "code",
   "execution_count": null,
   "id": "8deb4a18-666e-4d5d-8294-bc3b11a0d52a",
   "metadata": {},
   "outputs": [],
   "source": []
  },
  {
   "cell_type": "code",
   "execution_count": 127,
   "id": "713f66e1-5a1b-4b9e-ad46-a05fe33217b9",
   "metadata": {},
   "outputs": [],
   "source": [
    "# 2. Write a Pandas program to convert a Panda module Series to Python list and it’s type."
   ]
  },
  {
   "cell_type": "code",
   "execution_count": 128,
   "id": "80d6ae18-fdc3-4489-8c26-666b2dd0f0eb",
   "metadata": {},
   "outputs": [],
   "source": [
    "def function1():\n",
    "    l1 = [10,20,30,40,50]\n",
    "    print(f\"L1 = {l1} Type = {type(l1)}\")\n",
    "    \n",
    "    n_arr = np.array([11,22,33,44])\n",
    "    print(f\"N_ARR = {n_arr} Type = {type(n_arr)}\")\n",
    "    \n",
    "    s_series  = pd.Series([90,80,70,60,50])\n",
    "    print(f\"S_Series = {s_series} Type ={type(s_series)}\")\n",
    "    \n",
    "    "
   ]
  },
  {
   "cell_type": "code",
   "execution_count": 129,
   "id": "d3b00e47-5f29-41ca-b49b-54c9679c2bb0",
   "metadata": {},
   "outputs": [
    {
     "name": "stdout",
     "output_type": "stream",
     "text": [
      "L1 = [10, 20, 30, 40, 50] Type = <class 'list'>\n",
      "N_ARR = [11 22 33 44] Type = <class 'numpy.ndarray'>\n",
      "S_Series = 0    90\n",
      "1    80\n",
      "2    70\n",
      "3    60\n",
      "4    50\n",
      "dtype: int64 Type =<class 'pandas.core.series.Series'>\n"
     ]
    }
   ],
   "source": [
    "function1()"
   ]
  },
  {
   "cell_type": "code",
   "execution_count": null,
   "id": "c44c3985-7120-4a48-a300-c61e11ac1b21",
   "metadata": {},
   "outputs": [],
   "source": []
  },
  {
   "cell_type": "code",
   "execution_count": 130,
   "id": "a2233b31-33c5-4bf9-aae2-5fc554e53644",
   "metadata": {},
   "outputs": [],
   "source": [
    "# 3. Write a Pandas program to add, subtract, multiple and divide two Pandas Series.\n",
    " #  Sample Series: [2, 4, 6, 8, 10], [1, 3, 5, 7, 9]\n"
   ]
  },
  {
   "cell_type": "code",
   "execution_count": 131,
   "id": "d6b0566a-5664-4cb7-bf9f-d3b27c320555",
   "metadata": {},
   "outputs": [],
   "source": [
    "#l1 = [2, 4, 6, 8, 10]\n",
    "#l2 = [1, 3, 5, 7, 9]\n",
    "#n1 = l1 + l2\n",
    "#print(n1)\n",
    "#n2 = l1 - l2\n",
    "#print(n1)\n",
    "#n3 = l1 * l2\n",
    "#print(n1)\n",
    "#n3 = l1 / l2\n",
    "#print(n1)"
   ]
  },
  {
   "cell_type": "code",
   "execution_count": null,
   "id": "26ad0d4e-ae60-49fd-966e-c11f8d81cc1a",
   "metadata": {},
   "outputs": [],
   "source": []
  },
  {
   "cell_type": "code",
   "execution_count": 132,
   "id": "e179893a-8d5d-46ba-9de5-93f36ae53f5d",
   "metadata": {},
   "outputs": [],
   "source": [
    "# 4. Write a Pandas program to convert a dictionary to a Pandas series.\n"
   ]
  },
  {
   "cell_type": "code",
   "execution_count": 133,
   "id": "3ed61463-a524-4a14-8a37-ede815db2575",
   "metadata": {},
   "outputs": [
    {
     "name": "stdout",
     "output_type": "stream",
     "text": [
      "{'a': 100, 'b': 200, 'c': 300, 'd': 400, 'e': 800}\n",
      "a    100\n",
      "b    200\n",
      "c    300\n",
      "d    400\n",
      "e    800\n",
      "dtype: int64\n"
     ]
    }
   ],
   "source": [
    "s1 = {'a': 100, 'b': 200, 'c':300, 'd':400, 'e':800}\n",
    "print(s1)\n",
    "pd_series = pd.Series(s1)\n",
    "print(pd_series)"
   ]
  },
  {
   "cell_type": "code",
   "execution_count": null,
   "id": "5b079aa8-1a97-49f4-8a8c-313bbede084b",
   "metadata": {},
   "outputs": [],
   "source": []
  },
  {
   "cell_type": "code",
   "execution_count": 134,
   "id": "43b21a1a-0b6a-49da-9aa2-fc309bfc59d5",
   "metadata": {},
   "outputs": [],
   "source": [
    "# 5. Write a Pandas program to convert a NumPy array to a Pandas series.\n"
   ]
  },
  {
   "cell_type": "code",
   "execution_count": 135,
   "id": "89aae8c7-dc93-4594-aef3-06bb5f05b02a",
   "metadata": {},
   "outputs": [
    {
     "name": "stdout",
     "output_type": "stream",
     "text": [
      "[10 20 30 40 50]\n",
      "0    10\n",
      "1    20\n",
      "2    30\n",
      "3    40\n",
      "4    50\n",
      "dtype: int64\n"
     ]
    }
   ],
   "source": [
    "n1 = np.array([10, 20, 30, 40, 50])\n",
    "print(n1)\n",
    "pd_series = pd.Series(n1)\n",
    "print(pd_series)"
   ]
  },
  {
   "cell_type": "code",
   "execution_count": null,
   "id": "d62b8281-55c4-4b93-b60d-b40778e7102a",
   "metadata": {},
   "outputs": [],
   "source": []
  },
  {
   "cell_type": "code",
   "execution_count": 136,
   "id": "97608e96-fd7b-4230-a8d8-3f01a5bf9761",
   "metadata": {},
   "outputs": [],
   "source": [
    "# 6. Write a Pandas program to change the data type of given a column or a Series.\n"
   ]
  },
  {
   "cell_type": "code",
   "execution_count": 137,
   "id": "dd45dc10-245c-4d4f-b8ed-9526517dfe70",
   "metadata": {},
   "outputs": [],
   "source": [
    "def function1():\n",
    "    students = pd.Series([\"s1\",\"s2\",\"s3\",\"s4\"])\n",
    "    print(students)"
   ]
  },
  {
   "cell_type": "code",
   "execution_count": 138,
   "id": "3518b326-cb46-4b30-b097-c388a899f8d1",
   "metadata": {},
   "outputs": [
    {
     "name": "stdout",
     "output_type": "stream",
     "text": [
      "0    s1\n",
      "1    s2\n",
      "2    s3\n",
      "3    s4\n",
      "dtype: object\n"
     ]
    }
   ],
   "source": [
    "function1()"
   ]
  },
  {
   "cell_type": "code",
   "execution_count": null,
   "id": "f9a6a333-66c1-4b4d-aa75-91ff5d0ff7c3",
   "metadata": {},
   "outputs": [],
   "source": []
  },
  {
   "cell_type": "code",
   "execution_count": 139,
   "id": "0e1ecb4a-c495-45e7-ac1d-0671846ad755",
   "metadata": {},
   "outputs": [],
   "source": [
    "# 7. Write a Pandas program to convert a given Series to an array.\n"
   ]
  },
  {
   "cell_type": "code",
   "execution_count": 140,
   "id": "87a86796-f8f5-4b28-aa95-3764e5c41263",
   "metadata": {},
   "outputs": [
    {
     "name": "stdout",
     "output_type": "stream",
     "text": [
      "0    100\n",
      "1    200\n",
      "2    300\n",
      "3    400\n",
      "4    500\n",
      "dtype: object\n",
      "['100' '200' '300' '400' '500']\n"
     ]
    }
   ],
   "source": [
    "s1 = pd.Series(['100', '200', '300', '400','500'])\n",
    "print(s1)\n",
    "n1 = s1.values\n",
    "print(n1)\n"
   ]
  },
  {
   "cell_type": "code",
   "execution_count": null,
   "id": "0927578c-e828-45a9-bee7-7385b73dce14",
   "metadata": {},
   "outputs": [],
   "source": []
  },
  {
   "cell_type": "code",
   "execution_count": 141,
   "id": "df398d93-48b6-431e-81a8-fcd4cca002c7",
   "metadata": {},
   "outputs": [],
   "source": [
    "# 8. Write a Pandas program to create a dataframe from a dictionary and display it."
   ]
  },
  {
   "cell_type": "code",
   "execution_count": 142,
   "id": "ca9bac82-dcb6-4898-ab2e-3cd287123c5e",
   "metadata": {},
   "outputs": [],
   "source": [
    "def function1():\n",
    "    p1 = ({\"name\":\"P1\",\"age\":25,\"id\":1234})\n",
    "    p2 = ({\"name\":\"P2\",\"age\":35,\"id\":456})\n",
    "    p3 = ({\"name\":\"P3\",\"age\":20,\"id\":789})\n",
    "    \n",
    "    s1 = pd.Series(p1)\n",
    "    s2 = pd.Series(p2)\n",
    "    s3 = pd.Series(p3)\n",
    "    \n",
    "    df = pd.DataFrame([s1,s2,s3])\n",
    "\n",
    "    print(s1)\n",
    "    print(s2)\n",
    "    print(s3)\n",
    "    print(df)\n",
    "    "
   ]
  },
  {
   "cell_type": "code",
   "execution_count": 143,
   "id": "f238d43e-dd14-4ceb-a5c2-d90e8c4586c2",
   "metadata": {},
   "outputs": [
    {
     "name": "stdout",
     "output_type": "stream",
     "text": [
      "name      P1\n",
      "age       25\n",
      "id      1234\n",
      "dtype: object\n",
      "name     P2\n",
      "age      35\n",
      "id      456\n",
      "dtype: object\n",
      "name     P3\n",
      "age      20\n",
      "id      789\n",
      "dtype: object\n",
      "  name  age    id\n",
      "0   P1   25  1234\n",
      "1   P2   35   456\n",
      "2   P3   20   789\n"
     ]
    }
   ],
   "source": [
    "function1()"
   ]
  },
  {
   "cell_type": "code",
   "execution_count": null,
   "id": "434c41ee-c899-4fd8-af1a-3b6a3aeda38b",
   "metadata": {},
   "outputs": [],
   "source": []
  },
  {
   "cell_type": "code",
   "execution_count": 144,
   "id": "7b6693f2-ffa1-4265-a1b0-154559c54e39",
   "metadata": {},
   "outputs": [],
   "source": [
    "# 9. i) Create a list of empids and names (10 employees).\n",
    "  # ii) Convert list into Series.\n",
    "   #iii) Print type of Series.\n",
    "   #iv) Convert Series into DataFrame.\n",
    "   #v) a) Display all records.\n",
    "    #  b) Display first five records.\n",
    "     # c) Display last five records.\n",
    "      #d) Display first two and last two records.\n",
    "      #e) Display name of 5th employee.\n",
    "      #f) Display record of 4th employee.\n",
    "   #vi) Save the record in csv file (MyRecord.csv)\n"
   ]
  },
  {
   "cell_type": "code",
   "execution_count": 145,
   "id": "df038767-3ba4-431e-abcd-30a634b25922",
   "metadata": {},
   "outputs": [],
   "source": [
    "df = pd.read_csv('./50_Startups.csv')"
   ]
  },
  {
   "cell_type": "code",
   "execution_count": 146,
   "id": "a225e589-bdd7-4470-a1a7-d697b351a36a",
   "metadata": {},
   "outputs": [],
   "source": [
    "#print(df)"
   ]
  },
  {
   "cell_type": "code",
   "execution_count": 147,
   "id": "ad685673-2348-4f2b-9dfe-88b33a2b8593",
   "metadata": {},
   "outputs": [
    {
     "name": "stdout",
     "output_type": "stream",
     "text": [
      "Index(['RnD', 'Administration', 'Marketing', 'State', 'Profit'], dtype='object')\n"
     ]
    }
   ],
   "source": [
    "print(df.columns)"
   ]
  },
  {
   "cell_type": "code",
   "execution_count": null,
   "id": "1a6b5e4a-fd84-484b-b5c9-6b595018c21b",
   "metadata": {},
   "outputs": [],
   "source": []
  },
  {
   "cell_type": "code",
   "execution_count": 148,
   "id": "a07ddf84-4f88-4b1d-a740-6c3434da36fc",
   "metadata": {},
   "outputs": [
    {
     "data": {
      "text/html": [
       "<div>\n",
       "<style scoped>\n",
       "    .dataframe tbody tr th:only-of-type {\n",
       "        vertical-align: middle;\n",
       "    }\n",
       "\n",
       "    .dataframe tbody tr th {\n",
       "        vertical-align: top;\n",
       "    }\n",
       "\n",
       "    .dataframe thead th {\n",
       "        text-align: right;\n",
       "    }\n",
       "</style>\n",
       "<table border=\"1\" class=\"dataframe\">\n",
       "  <thead>\n",
       "    <tr style=\"text-align: right;\">\n",
       "      <th></th>\n",
       "      <th>RnD</th>\n",
       "      <th>Administration</th>\n",
       "      <th>Marketing</th>\n",
       "      <th>State</th>\n",
       "      <th>Profit</th>\n",
       "    </tr>\n",
       "  </thead>\n",
       "  <tbody>\n",
       "    <tr>\n",
       "      <th>0</th>\n",
       "      <td>165349.20</td>\n",
       "      <td>136897.80</td>\n",
       "      <td>471784.10</td>\n",
       "      <td>New York</td>\n",
       "      <td>192261.83</td>\n",
       "    </tr>\n",
       "    <tr>\n",
       "      <th>1</th>\n",
       "      <td>162597.70</td>\n",
       "      <td>151377.59</td>\n",
       "      <td>443898.53</td>\n",
       "      <td>California</td>\n",
       "      <td>191792.06</td>\n",
       "    </tr>\n",
       "    <tr>\n",
       "      <th>2</th>\n",
       "      <td>153441.51</td>\n",
       "      <td>101145.55</td>\n",
       "      <td>407934.54</td>\n",
       "      <td>Florida</td>\n",
       "      <td>191050.39</td>\n",
       "    </tr>\n",
       "    <tr>\n",
       "      <th>3</th>\n",
       "      <td>144372.41</td>\n",
       "      <td>118671.85</td>\n",
       "      <td>383199.62</td>\n",
       "      <td>New York</td>\n",
       "      <td>182901.99</td>\n",
       "    </tr>\n",
       "    <tr>\n",
       "      <th>4</th>\n",
       "      <td>142107.34</td>\n",
       "      <td>91391.77</td>\n",
       "      <td>366168.42</td>\n",
       "      <td>Florida</td>\n",
       "      <td>166187.94</td>\n",
       "    </tr>\n",
       "    <tr>\n",
       "      <th>5</th>\n",
       "      <td>131876.90</td>\n",
       "      <td>99814.71</td>\n",
       "      <td>362861.36</td>\n",
       "      <td>New York</td>\n",
       "      <td>156991.12</td>\n",
       "    </tr>\n",
       "    <tr>\n",
       "      <th>6</th>\n",
       "      <td>134615.46</td>\n",
       "      <td>147198.87</td>\n",
       "      <td>127716.82</td>\n",
       "      <td>California</td>\n",
       "      <td>156122.51</td>\n",
       "    </tr>\n",
       "    <tr>\n",
       "      <th>7</th>\n",
       "      <td>130298.13</td>\n",
       "      <td>145530.06</td>\n",
       "      <td>323876.68</td>\n",
       "      <td>Florida</td>\n",
       "      <td>155752.60</td>\n",
       "    </tr>\n",
       "    <tr>\n",
       "      <th>8</th>\n",
       "      <td>120542.52</td>\n",
       "      <td>148718.95</td>\n",
       "      <td>311613.29</td>\n",
       "      <td>New York</td>\n",
       "      <td>152211.77</td>\n",
       "    </tr>\n",
       "    <tr>\n",
       "      <th>9</th>\n",
       "      <td>123334.88</td>\n",
       "      <td>108679.17</td>\n",
       "      <td>304981.62</td>\n",
       "      <td>California</td>\n",
       "      <td>149759.96</td>\n",
       "    </tr>\n",
       "  </tbody>\n",
       "</table>\n",
       "</div>"
      ],
      "text/plain": [
       "         RnD  Administration  Marketing       State     Profit\n",
       "0  165349.20       136897.80  471784.10    New York  192261.83\n",
       "1  162597.70       151377.59  443898.53  California  191792.06\n",
       "2  153441.51       101145.55  407934.54     Florida  191050.39\n",
       "3  144372.41       118671.85  383199.62    New York  182901.99\n",
       "4  142107.34        91391.77  366168.42     Florida  166187.94\n",
       "5  131876.90        99814.71  362861.36    New York  156991.12\n",
       "6  134615.46       147198.87  127716.82  California  156122.51\n",
       "7  130298.13       145530.06  323876.68     Florida  155752.60\n",
       "8  120542.52       148718.95  311613.29    New York  152211.77\n",
       "9  123334.88       108679.17  304981.62  California  149759.96"
      ]
     },
     "execution_count": 148,
     "metadata": {},
     "output_type": "execute_result"
    }
   ],
   "source": [
    "df.head(10)"
   ]
  },
  {
   "cell_type": "code",
   "execution_count": 149,
   "id": "4ee8af88-1118-4b3c-baf8-40535c1fcee6",
   "metadata": {},
   "outputs": [
    {
     "data": {
      "text/html": [
       "<div>\n",
       "<style scoped>\n",
       "    .dataframe tbody tr th:only-of-type {\n",
       "        vertical-align: middle;\n",
       "    }\n",
       "\n",
       "    .dataframe tbody tr th {\n",
       "        vertical-align: top;\n",
       "    }\n",
       "\n",
       "    .dataframe thead th {\n",
       "        text-align: right;\n",
       "    }\n",
       "</style>\n",
       "<table border=\"1\" class=\"dataframe\">\n",
       "  <thead>\n",
       "    <tr style=\"text-align: right;\">\n",
       "      <th></th>\n",
       "      <th>RnD</th>\n",
       "      <th>Administration</th>\n",
       "      <th>Marketing</th>\n",
       "      <th>State</th>\n",
       "      <th>Profit</th>\n",
       "    </tr>\n",
       "  </thead>\n",
       "  <tbody>\n",
       "    <tr>\n",
       "      <th>0</th>\n",
       "      <td>165349.2</td>\n",
       "      <td>136897.80</td>\n",
       "      <td>471784.10</td>\n",
       "      <td>New York</td>\n",
       "      <td>192261.83</td>\n",
       "    </tr>\n",
       "    <tr>\n",
       "      <th>1</th>\n",
       "      <td>162597.7</td>\n",
       "      <td>151377.59</td>\n",
       "      <td>443898.53</td>\n",
       "      <td>California</td>\n",
       "      <td>191792.06</td>\n",
       "    </tr>\n",
       "  </tbody>\n",
       "</table>\n",
       "</div>"
      ],
      "text/plain": [
       "        RnD  Administration  Marketing       State     Profit\n",
       "0  165349.2       136897.80  471784.10    New York  192261.83\n",
       "1  162597.7       151377.59  443898.53  California  191792.06"
      ]
     },
     "execution_count": 149,
     "metadata": {},
     "output_type": "execute_result"
    }
   ],
   "source": [
    "df.head(2)"
   ]
  },
  {
   "cell_type": "code",
   "execution_count": 150,
   "id": "b16f49c7-b517-4c9d-bac0-5ded5366ad84",
   "metadata": {},
   "outputs": [
    {
     "data": {
      "text/html": [
       "<div>\n",
       "<style scoped>\n",
       "    .dataframe tbody tr th:only-of-type {\n",
       "        vertical-align: middle;\n",
       "    }\n",
       "\n",
       "    .dataframe tbody tr th {\n",
       "        vertical-align: top;\n",
       "    }\n",
       "\n",
       "    .dataframe thead th {\n",
       "        text-align: right;\n",
       "    }\n",
       "</style>\n",
       "<table border=\"1\" class=\"dataframe\">\n",
       "  <thead>\n",
       "    <tr style=\"text-align: right;\">\n",
       "      <th></th>\n",
       "      <th>RnD</th>\n",
       "      <th>Administration</th>\n",
       "      <th>Marketing</th>\n",
       "      <th>State</th>\n",
       "      <th>Profit</th>\n",
       "    </tr>\n",
       "  </thead>\n",
       "  <tbody>\n",
       "    <tr>\n",
       "      <th>48</th>\n",
       "      <td>542.05</td>\n",
       "      <td>51743.15</td>\n",
       "      <td>0.00</td>\n",
       "      <td>New York</td>\n",
       "      <td>35673.41</td>\n",
       "    </tr>\n",
       "    <tr>\n",
       "      <th>49</th>\n",
       "      <td>0.00</td>\n",
       "      <td>116983.80</td>\n",
       "      <td>45173.06</td>\n",
       "      <td>California</td>\n",
       "      <td>14681.40</td>\n",
       "    </tr>\n",
       "  </tbody>\n",
       "</table>\n",
       "</div>"
      ],
      "text/plain": [
       "       RnD  Administration  Marketing       State    Profit\n",
       "48  542.05        51743.15       0.00    New York  35673.41\n",
       "49    0.00       116983.80   45173.06  California  14681.40"
      ]
     },
     "execution_count": 150,
     "metadata": {},
     "output_type": "execute_result"
    }
   ],
   "source": [
    "\n",
    "df.tail(2)"
   ]
  },
  {
   "cell_type": "code",
   "execution_count": null,
   "id": "5004a672-b614-472f-9f8a-854f0d955b5e",
   "metadata": {},
   "outputs": [],
   "source": []
  },
  {
   "cell_type": "code",
   "execution_count": null,
   "id": "9a7c9f87-0408-4143-b6dc-b7a8697fe6ab",
   "metadata": {},
   "outputs": [],
   "source": [
    " #10. i) Read the MyRecord.csv file.\n",
    " #   ii) Create a new column Salary.\n"
   ]
  },
  {
   "cell_type": "code",
   "execution_count": null,
   "id": "7da95b52-db27-47fa-ad1b-6133ca5474ee",
   "metadata": {},
   "outputs": [],
   "source": []
  },
  {
   "cell_type": "code",
   "execution_count": null,
   "id": "4c4f8804-4bec-42f9-9fa1-a0b9b377414d",
   "metadata": {},
   "outputs": [],
   "source": []
  },
  {
   "cell_type": "code",
   "execution_count": null,
   "id": "cfce0763-59d3-44a4-957d-be5100831864",
   "metadata": {},
   "outputs": [],
   "source": []
  },
  {
   "cell_type": "code",
   "execution_count": null,
   "id": "b28e2bb2-5337-43dd-b36e-a27e884f5aed",
   "metadata": {},
   "outputs": [],
   "source": []
  },
  {
   "cell_type": "code",
   "execution_count": null,
   "id": "82c8f58b-c705-454e-a442-cbe8ddd987bc",
   "metadata": {},
   "outputs": [],
   "source": []
  }
 ],
 "metadata": {
  "kernelspec": {
   "display_name": "Python 3 (ipykernel)",
   "language": "python",
   "name": "python3"
  },
  "language_info": {
   "codemirror_mode": {
    "name": "ipython",
    "version": 3
   },
   "file_extension": ".py",
   "mimetype": "text/x-python",
   "name": "python",
   "nbconvert_exporter": "python",
   "pygments_lexer": "ipython3",
   "version": "3.10.12"
  }
 },
 "nbformat": 4,
 "nbformat_minor": 5
}
