{
 "cells": [
  {
   "cell_type": "code",
   "execution_count": 362,
   "id": "835026e8-b235-41a4-ba72-615cc36e4084",
   "metadata": {},
   "outputs": [],
   "source": [
    "# 1. Write a NumPy program to create an array with the values 1, 7, 13, 105    and determine the size of the memory occupied by the array.\n"
   ]
  },
  {
   "cell_type": "code",
   "execution_count": 363,
   "id": "b9ae49c3-89b7-47b1-8c97-a127774910c5",
   "metadata": {},
   "outputs": [],
   "source": [
    "import numpy as np"
   ]
  },
  {
   "cell_type": "code",
   "execution_count": 364,
   "id": "33ffa4bb-074c-4bb3-87a5-1e640dc6d18e",
   "metadata": {},
   "outputs": [],
   "source": [
    "def function1():\n",
    "    arr = np.array([1,7,13,105])\n",
    "    print(arr)\n",
    "    print(f\"Size = {arr.size}\")\n"
   ]
  },
  {
   "cell_type": "code",
   "execution_count": 365,
   "id": "53561170-9ee9-433d-8fe8-914234fb085b",
   "metadata": {},
   "outputs": [
    {
     "name": "stdout",
     "output_type": "stream",
     "text": [
      "[  1   7  13 105]\n",
      "Size = 4\n"
     ]
    }
   ],
   "source": [
    "function1()"
   ]
  },
  {
   "cell_type": "code",
   "execution_count": 366,
   "id": "3d4f81ad-0529-474a-bf69-e74d5f7a1eb7",
   "metadata": {},
   "outputs": [],
   "source": [
    "# 2. Write a NumPy program to create an element-wise comparison (greater,    greater_equal, less and less_equal) of two given arrays.\n"
   ]
  },
  {
   "cell_type": "code",
   "execution_count": 367,
   "id": "c0cd6a14-4194-428d-bbdb-b7bc4a5ad713",
   "metadata": {},
   "outputs": [],
   "source": [
    "def function2():\n",
    "    n1 = ([10,20,30,90])\n",
    "    n2 = ([50,20,60,80])\n",
    "    print(np.greater(n1,n2))\n",
    "    print(np.greater_equal(n1,n2))\n",
    "    print(np.less(n1,n2))\n",
    "    print(np.less_equal(n1,n2))"
   ]
  },
  {
   "cell_type": "code",
   "execution_count": 368,
   "id": "1d36d4ba-7822-40bd-aa3b-ab5b5e57f8c9",
   "metadata": {},
   "outputs": [
    {
     "name": "stdout",
     "output_type": "stream",
     "text": [
      "[False False False  True]\n",
      "[False  True False  True]\n",
      "[ True False  True False]\n",
      "[ True  True  True False]\n"
     ]
    }
   ],
   "source": [
    "function2()\n"
   ]
  },
  {
   "cell_type": "code",
   "execution_count": 369,
   "id": "2f662b51-c88d-43e2-848c-9a6929adc34d",
   "metadata": {},
   "outputs": [],
   "source": [
    "#3.  Write a NumPy program to create an array of 10 zeros, 10 ones, 10    fives, 10 tens, 10 twentys and 10 fiftys.\n"
   ]
  },
  {
   "cell_type": "code",
   "execution_count": 370,
   "id": "0560ddee-9765-427d-8bff-4f02ca24c259",
   "metadata": {},
   "outputs": [
    {
     "name": "stdout",
     "output_type": "stream",
     "text": [
      "[0. 0. 0. 0. 0. 0. 0. 0. 0. 0.]\n",
      "[1. 1. 1. 1. 1. 1. 1. 1. 1. 1.]\n",
      "[5. 5. 5. 5. 5. 5. 5. 5. 5. 5.]\n",
      "[10. 10. 10. 10. 10. 10. 10. 10. 10. 10.]\n",
      "[20. 20. 20. 20. 20. 20. 20. 20. 20. 20.]\n",
      "[50. 50. 50. 50. 50. 50. 50. 50. 50. 50.]\n"
     ]
    }
   ],
   "source": [
    "arr1 = np.zeros(10)\n",
    "arr2 = np.ones(10)\n",
    "arr3 = (arr2*5)\n",
    "arr4 = (arr2*10)\n",
    "arr5 = (arr2*20)\n",
    "arr6 = (arr2*50)\n",
    "print(arr1)\n",
    "print(arr2)\n",
    "print(arr3)\n",
    "print(arr4)\n",
    "print(arr5)\n",
    "print(arr6)"
   ]
  },
  {
   "cell_type": "code",
   "execution_count": 371,
   "id": "e54181e9-ebf9-4e70-9710-b4dae54ff9a9",
   "metadata": {},
   "outputs": [],
   "source": [
    "#4. Write a NumPy program to create an array of integers from 30 to 70."
   ]
  },
  {
   "cell_type": "code",
   "execution_count": 372,
   "id": "b0600e97-ae71-43e8-b002-bb4cde3c083d",
   "metadata": {},
   "outputs": [
    {
     "name": "stdout",
     "output_type": "stream",
     "text": [
      "[30 31 32 33 34 35 36 37 38 39 40 41 42 43 44 45 46 47 48 49 50 51 52 53\n",
      " 54 55 56 57 58 59 60 61 62 63 64 65 66 67 68 69]\n"
     ]
    }
   ],
   "source": [
    "arr1 = np.arange(30,70)\n",
    "print(arr1)"
   ]
  },
  {
   "cell_type": "code",
   "execution_count": 373,
   "id": "ad048907-786a-43c5-9261-6541963f2fae",
   "metadata": {},
   "outputs": [],
   "source": [
    "#5. Write a NumPy program to create an array of integers from 50 to 95.\n"
   ]
  },
  {
   "cell_type": "code",
   "execution_count": 374,
   "id": "0732bab6-3041-4715-8cae-aec81bc85c83",
   "metadata": {},
   "outputs": [
    {
     "name": "stdout",
     "output_type": "stream",
     "text": [
      "[50 51 52 53 54 55 56 57 58 59 60 61 62 63 64 65 66 67 68 69 70 71 72 73\n",
      " 74 75 76 77 78 79 80 81 82 83 84 85 86 87 88 89 90 91 92 93 94]\n"
     ]
    }
   ],
   "source": [
    "arr2 = np.arange(50,95)\n",
    "print(arr2)"
   ]
  },
  {
   "cell_type": "code",
   "execution_count": null,
   "id": "6ce0a302-fd7d-430a-89c7-328978dabc16",
   "metadata": {},
   "outputs": [],
   "source": []
  },
  {
   "cell_type": "code",
   "execution_count": 375,
   "id": "f7965823-56f0-4082-8099-af20ef5ee68a",
   "metadata": {},
   "outputs": [],
   "source": [
    "# 6. Write a NumPy program to create an array of all even integers from 20 to 80.\n"
   ]
  },
  {
   "cell_type": "code",
   "execution_count": 376,
   "id": "b8803856-b31a-4c09-83b7-5bfec51cc745",
   "metadata": {},
   "outputs": [
    {
     "name": "stdout",
     "output_type": "stream",
     "text": [
      "[20 22 24 26 28 30 32 34 36 38 40 42 44 46 48 50 52 54 56 58 60 62 64 66\n",
      " 68 70 72 74 76 78]\n"
     ]
    }
   ],
   "source": [
    "arr3 = np.arange(20,80,2)\n",
    "print(arr3)"
   ]
  },
  {
   "cell_type": "code",
   "execution_count": null,
   "id": "f14b11bc-6d11-4a10-9072-a3d740562074",
   "metadata": {},
   "outputs": [],
   "source": []
  },
  {
   "cell_type": "code",
   "execution_count": 377,
   "id": "7b54aa64-d323-4a12-a3cf-fe8341986271",
   "metadata": {},
   "outputs": [],
   "source": [
    "# 7. Write a NumPy program to create an array of all odd integers from 20 to 80.\n"
   ]
  },
  {
   "cell_type": "code",
   "execution_count": 378,
   "id": "cfe807b0-8c4e-4944-b0e5-4bbb6c5541b6",
   "metadata": {},
   "outputs": [
    {
     "name": "stdout",
     "output_type": "stream",
     "text": [
      "[21 23 25 27 29 31 33 35 37 39 41 43 45 47 49 51 53 55 57 59 61 63 65 67\n",
      " 69 71 73 75 77 79]\n"
     ]
    }
   ],
   "source": [
    "arr4 = np.arange(21,81,2)\n",
    "print(arr4)"
   ]
  },
  {
   "cell_type": "code",
   "execution_count": null,
   "id": "56a0fd87-c29b-4872-953a-b6d4fed1d602",
   "metadata": {},
   "outputs": [],
   "source": []
  },
  {
   "cell_type": "code",
   "execution_count": 379,
   "id": "adcd6528-f328-4d03-98e7-756b791dc1ae",
   "metadata": {},
   "outputs": [],
   "source": [
    "# 8. Write a NumPy program to generate an array of 15 random numbers from 10    to 40.\n"
   ]
  },
  {
   "cell_type": "code",
   "execution_count": 380,
   "id": "6ddd46a1-b413-464f-8ccb-c6b0539a3163",
   "metadata": {},
   "outputs": [
    {
     "name": "stdout",
     "output_type": "stream",
     "text": [
      "[18 33 19 21 39 27 21 34 38 26 33 38 25 39 11]\n"
     ]
    }
   ],
   "source": [
    "arr1 = np.random.randint(10,40,15) \n",
    "print(arr1)"
   ]
  },
  {
   "cell_type": "code",
   "execution_count": null,
   "id": "e2a6a2e7-4a13-4003-8b29-c28fe5e39e32",
   "metadata": {},
   "outputs": [],
   "source": []
  },
  {
   "cell_type": "code",
   "execution_count": 381,
   "id": "2ea9d1e6-70da-400b-aa84-cd48467af334",
   "metadata": {},
   "outputs": [],
   "source": [
    "# 9. Write a NumPy program to generate an array of 10 random numbers from 30    to 50.\n"
   ]
  },
  {
   "cell_type": "code",
   "execution_count": 382,
   "id": "bfc8447b-1a1f-4646-b1be-571470f29ac2",
   "metadata": {},
   "outputs": [
    {
     "name": "stdout",
     "output_type": "stream",
     "text": [
      "[38 33 34 49 31 39 30 31 42 40]\n"
     ]
    }
   ],
   "source": [
    "arr2 = np.random.randint(30,50,10) \n",
    "print(arr2)"
   ]
  },
  {
   "cell_type": "code",
   "execution_count": null,
   "id": "68ed27ad-091a-49a7-9373-42a511cd0fb6",
   "metadata": {},
   "outputs": [],
   "source": []
  },
  {
   "cell_type": "code",
   "execution_count": 383,
   "id": "6d0a05f7-74ef-48d5-92a5-4b98b9a409ad",
   "metadata": {},
   "outputs": [],
   "source": [
    "# 10. Write a NumPy program to generate an array of 20 random numbers from 50    to 90.\n"
   ]
  },
  {
   "cell_type": "code",
   "execution_count": 384,
   "id": "365c7da6-9259-4931-8120-c63878b6b766",
   "metadata": {},
   "outputs": [
    {
     "name": "stdout",
     "output_type": "stream",
     "text": [
      "[67 51 50 88 72 50 75 52 80 60 65 83 61 66 73 53 53 88 88 63]\n"
     ]
    }
   ],
   "source": [
    "arr3 = np.random.randint(50,90,20) \n",
    "print(arr3)"
   ]
  },
  {
   "cell_type": "code",
   "execution_count": null,
   "id": "37875ad2-82a2-4d6e-b1ab-06edf4ae5195",
   "metadata": {},
   "outputs": [],
   "source": []
  },
  {
   "cell_type": "code",
   "execution_count": 385,
   "id": "f3ee391e-7cc9-4663-aefc-5deab60c89c2",
   "metadata": {},
   "outputs": [],
   "source": [
    "# 11. Create any two arrays & perform various mathematical operations.\n",
    "   # i.e. Addition, Substraction, Multiplication, Divide.\n"
   ]
  },
  {
   "cell_type": "code",
   "execution_count": 386,
   "id": "388c1f69-910d-46ac-b365-6348cc28ada5",
   "metadata": {},
   "outputs": [
    {
     "name": "stdout",
     "output_type": "stream",
     "text": [
      "N1 = [11 22 33 44]\n",
      "N2 = [10 20 30 40]\n",
      "[21 42 63 84]\n",
      "[1 2 3 4]\n",
      "[ 110  440  990 1760]\n",
      "[1.1 1.1 1.1 1.1]\n"
     ]
    }
   ],
   "source": [
    "n1 = np.array([11,22,33,44])\n",
    "n2 = np.array([10,20,30,40])\n",
    "print(f\"N1 = {n1}\")\n",
    "print(f\"N2 = {n2}\")\n",
    "print(n1+n2)\n",
    "print(n1-n2)\n",
    "print(n1*n2)\n",
    "print(n1/n2)\n"
   ]
  },
  {
   "cell_type": "code",
   "execution_count": null,
   "id": "44d2678d-0d33-4e86-ac8e-a0655ba8ed7a",
   "metadata": {},
   "outputs": [],
   "source": []
  },
  {
   "cell_type": "code",
   "execution_count": 387,
   "id": "7212a3c3-34ce-479f-8b69-459dc57081e7",
   "metadata": {},
   "outputs": [],
   "source": [
    "# 12. Write a NumPy program to create a 3x4 matrix filled with values from 10     to 21.\n"
   ]
  },
  {
   "cell_type": "code",
   "execution_count": 388,
   "id": "75385a17-adde-4eef-af72-f27f2cab113a",
   "metadata": {},
   "outputs": [
    {
     "name": "stdout",
     "output_type": "stream",
     "text": [
      "[[10 11 12 13]\n",
      " [14 15 16 17]\n",
      " [18 19 20 21]]\n"
     ]
    }
   ],
   "source": [
    "n1 = np.arange(10,22).reshape(3,4)\n",
    "print(n1)"
   ]
  },
  {
   "cell_type": "code",
   "execution_count": null,
   "id": "de3037b4-4509-423a-9d5c-dc3315e58eaf",
   "metadata": {},
   "outputs": [],
   "source": []
  },
  {
   "cell_type": "code",
   "execution_count": 389,
   "id": "47c4a28a-2670-40b4-b6e4-1f221448fcd5",
   "metadata": {},
   "outputs": [],
   "source": [
    "# 13. Write a NumPy program to create a 3x3 identity matrix, i.e. the diagonal     elements are 1, the rest are 0.\n"
   ]
  },
  {
   "cell_type": "code",
   "execution_count": 390,
   "id": "3e782ce5-65d8-47a3-bc62-7db398a07c5a",
   "metadata": {},
   "outputs": [
    {
     "name": "stdout",
     "output_type": "stream",
     "text": [
      "[[1. 0. 0.]\n",
      " [0. 1. 0.]\n",
      " [0. 0. 1.]]\n"
     ]
    }
   ],
   "source": [
    "n2 = np.eye(3)\n",
    "print(n2)"
   ]
  },
  {
   "cell_type": "code",
   "execution_count": 391,
   "id": "77839942-d086-4cda-951f-2cd3c07e0969",
   "metadata": {},
   "outputs": [
    {
     "name": "stdout",
     "output_type": "stream",
     "text": [
      "[[1 0 0]\n",
      " [0 1 0]\n",
      " [0 0 1]]\n"
     ]
    }
   ],
   "source": [
    "n2 = np.array([1,0,0,0,1,0,0,0,1])\n",
    "n2 = n2.reshape([3,3])\n",
    "print(n2)"
   ]
  },
  {
   "cell_type": "code",
   "execution_count": null,
   "id": "3596da03-a916-4823-a969-90be8784b643",
   "metadata": {},
   "outputs": [],
   "source": []
  },
  {
   "cell_type": "code",
   "execution_count": 392,
   "id": "b339ec2f-7d29-4b44-bfd8-efe29d725f9a",
   "metadata": {},
   "outputs": [],
   "source": [
    "# 14. Write a NumPy program to find the number of rows and columns in a given     matrix. \n"
   ]
  },
  {
   "cell_type": "code",
   "execution_count": 393,
   "id": "005f4a74-c1d8-444b-8f3b-d367b603fd9f",
   "metadata": {},
   "outputs": [
    {
     "name": "stdout",
     "output_type": "stream",
     "text": [
      "Rows: 2\n",
      "Columns: 3\n"
     ]
    }
   ],
   "source": [
    "matrix = np.array([[10, 20, 30], [11, 22, 33]])\n",
    " \n",
    "dimensions = matrix.shape\n",
    "rows, columns = dimensions\n",
    " \n",
    "print(\"Rows:\", rows)\n",
    "print(\"Columns:\", columns)"
   ]
  },
  {
   "cell_type": "code",
   "execution_count": null,
   "id": "915a7dcc-de1d-463f-836b-e1a54ac394e6",
   "metadata": {},
   "outputs": [],
   "source": []
  },
  {
   "cell_type": "code",
   "execution_count": 394,
   "id": "872583bc-432c-406d-a77b-f1853d764d03",
   "metadata": {},
   "outputs": [],
   "source": [
    "# 15. Write a NumPy program to create a 5x5 zero matrix with elements on the     main diagonal equal to 1, 2, 3, 4, 5.\n"
   ]
  },
  {
   "cell_type": "code",
   "execution_count": 395,
   "id": "d6d7a632-58b2-41d2-a756-e05f27565d53",
   "metadata": {},
   "outputs": [
    {
     "name": "stdout",
     "output_type": "stream",
     "text": [
      "[[1 0 0 0 0]\n",
      " [0 2 0 0 0]\n",
      " [0 0 3 0 0]\n",
      " [0 0 0 4 0]\n",
      " [0 0 0 0 5]]\n"
     ]
    }
   ],
   "source": [
    "n1 = np.array([1,0,0,0,0,0,2,0,0,0,0,0,3,0,0,0,0,0,4,0,0,0,0,0,5])\n",
    "n1 = n1.reshape([5,5])\n",
    "print(n1)"
   ]
  },
  {
   "cell_type": "code",
   "execution_count": null,
   "id": "0166add1-a694-4a95-b0ec-2a53f7245e51",
   "metadata": {},
   "outputs": [],
   "source": []
  },
  {
   "cell_type": "code",
   "execution_count": 396,
   "id": "18dbe1d6-0c59-425c-83fc-7d24d4bd932b",
   "metadata": {},
   "outputs": [],
   "source": [
    "# 16. Write a NumPy program to create a 3x3x3 array filled with arbitrary     values."
   ]
  },
  {
   "cell_type": "code",
   "execution_count": 397,
   "id": "bedf7b8e-a17b-449e-977b-d44eb2e2381b",
   "metadata": {},
   "outputs": [
    {
     "name": "stdout",
     "output_type": "stream",
     "text": [
      "[[[0.38861444 0.62394366 0.29369106]\n",
      "  [0.42440632 0.74509981 0.04659326]\n",
      "  [0.43940354 0.73319104 0.0620211 ]]\n",
      "\n",
      " [[0.71848494 0.31252013 0.11661199]\n",
      "  [0.51549246 0.85844101 0.67291007]\n",
      "  [0.34230032 0.94630029 0.20954323]]\n",
      "\n",
      " [[0.9789328  0.50562115 0.21734506]\n",
      "  [0.50374303 0.50095598 0.99723409]\n",
      "  [0.99540468 0.83977781 0.21702231]]]\n"
     ]
    }
   ],
   "source": [
    "n1 = np.random.random((3, 3, 3))\n",
    "print(n1)"
   ]
  },
  {
   "cell_type": "code",
   "execution_count": null,
   "id": "a20cedf6-1855-4eb0-82cd-9cacf007688d",
   "metadata": {},
   "outputs": [],
   "source": []
  },
  {
   "cell_type": "code",
   "execution_count": 398,
   "id": "3f92918d-ba51-468c-a18d-bac2052c8227",
   "metadata": {},
   "outputs": [],
   "source": [
    "# 17. Write a NumPy program to create a 2x3x4 array filled with arbitrary     values.\n"
   ]
  },
  {
   "cell_type": "code",
   "execution_count": 399,
   "id": "7e88ae1b-4dc4-479c-95e0-150484c5b4c9",
   "metadata": {},
   "outputs": [
    {
     "name": "stdout",
     "output_type": "stream",
     "text": [
      "[[[0.83044254 0.18292245 0.332864   0.26852097]\n",
      "  [0.73392089 0.73316393 0.34635352 0.63385573]\n",
      "  [0.50454359 0.51594659 0.73065354 0.08040804]]\n",
      "\n",
      " [[0.61866756 0.89946334 0.1865815  0.70369512]\n",
      "  [0.59665007 0.48302971 0.50281813 0.08805161]\n",
      "  [0.3648998  0.30545987 0.67109404 0.74440394]]]\n"
     ]
    }
   ],
   "source": [
    "n1 = np.random.random((2, 3, 4))\n",
    "print(n1)"
   ]
  },
  {
   "cell_type": "code",
   "execution_count": null,
   "id": "5afee289-19cd-4f80-a809-5fd9327163d1",
   "metadata": {},
   "outputs": [],
   "source": []
  },
  {
   "cell_type": "code",
   "execution_count": 400,
   "id": "7a68935b-eba8-42a4-a02d-9a74b5927b7d",
   "metadata": {},
   "outputs": [],
   "source": [
    "# 18. Write a NumPy program to convert a list of numeric values into a one-    dimensional NumPy array.\n"
   ]
  },
  {
   "cell_type": "code",
   "execution_count": 401,
   "id": "b24ba87a-d1c1-4ecf-90f6-d12c2a227724",
   "metadata": {},
   "outputs": [
    {
     "name": "stdout",
     "output_type": "stream",
     "text": [
      "[11 22 33 44]\n"
     ]
    }
   ],
   "source": [
    "n1 = ([11,22,33,44])\n",
    "n1 = np.array(n1)\n",
    "print(n1)"
   ]
  },
  {
   "cell_type": "code",
   "execution_count": null,
   "id": "fa1482c5-930e-4abf-ac73-3dda6888f0df",
   "metadata": {},
   "outputs": [],
   "source": []
  },
  {
   "cell_type": "code",
   "execution_count": 402,
   "id": "491cadd0-b57f-478b-9c1a-652597ce2371",
   "metadata": {},
   "outputs": [],
   "source": [
    "# 19. Write a NumPy program to create a 3x3 matrix with values ranging from 2     to 10."
   ]
  },
  {
   "cell_type": "code",
   "execution_count": 403,
   "id": "7232e70e-4329-458c-8300-9eacba03a259",
   "metadata": {},
   "outputs": [
    {
     "name": "stdout",
     "output_type": "stream",
     "text": [
      "[[ 2  3  4]\n",
      " [ 5  6  7]\n",
      " [ 8  9 10]]\n"
     ]
    }
   ],
   "source": [
    "n2 = np.arange(2, 11).reshape(3, 3)\n",
    "print(n2)"
   ]
  },
  {
   "cell_type": "code",
   "execution_count": null,
   "id": "97c08612-83c3-454c-bca5-89a4e099d6d3",
   "metadata": {},
   "outputs": [],
   "source": []
  },
  {
   "cell_type": "code",
   "execution_count": 404,
   "id": "42b39bf9-f30f-4d1e-adca-c799306c5caa",
   "metadata": {},
   "outputs": [],
   "source": [
    "# 20. Write a NumPy program to create an array with values ranging from 12 to 38."
   ]
  },
  {
   "cell_type": "code",
   "execution_count": 405,
   "id": "c05b63c1-d3a3-4b56-8aef-7c56dc4b2098",
   "metadata": {},
   "outputs": [
    {
     "name": "stdout",
     "output_type": "stream",
     "text": [
      "[12 13 14 15 16 17 18 19 20 21 22 23 24 25 26 27 28 29 30 31 32 33 34 35\n",
      " 36 37]\n"
     ]
    }
   ],
   "source": [
    "n3 = np.arange(12,38)\n",
    "print(n3)"
   ]
  },
  {
   "cell_type": "code",
   "execution_count": null,
   "id": "27764e0e-cc57-497c-8a64-69e3b8dde9f5",
   "metadata": {},
   "outputs": [],
   "source": []
  },
  {
   "cell_type": "code",
   "execution_count": 406,
   "id": "b554800c-972f-4013-89b8-8d09a58409dd",
   "metadata": {},
   "outputs": [],
   "source": [
    "# 21. Write a NumPy program to reverse an array (the first element becomes the last).\n"
   ]
  },
  {
   "cell_type": "code",
   "execution_count": 407,
   "id": "11722025-a48c-4fc1-b141-4be7bb034e9e",
   "metadata": {},
   "outputs": [
    {
     "name": "stdout",
     "output_type": "stream",
     "text": [
      "[37 36 35 34 33 32 31 30 29 28 27 26 25 24 23 22 21 20 19 18 17 16 15 14\n",
      " 13 12]\n"
     ]
    }
   ],
   "source": [
    "n3 = np.arange(12,38)\n",
    "n3 = n3[::-1]\n",
    "print(n3)"
   ]
  },
  {
   "cell_type": "code",
   "execution_count": null,
   "id": "6269b307-af0c-4a00-975f-4cb7b12acec6",
   "metadata": {},
   "outputs": [],
   "source": []
  },
  {
   "cell_type": "code",
   "execution_count": 408,
   "id": "031b0a0d-fb4b-4b74-9c45-fcb98dd1bc49",
   "metadata": {},
   "outputs": [],
   "source": [
    "# 22. Write a NumPy program to convert an data type into to a floating type.\n"
   ]
  },
  {
   "cell_type": "code",
   "execution_count": 409,
   "id": "775f8f8d-a360-4c50-ae79-e68061634fe3",
   "metadata": {},
   "outputs": [
    {
     "name": "stdout",
     "output_type": "stream",
     "text": [
      "[11. 22. 33. 44.]\n"
     ]
    }
   ],
   "source": [
    "n1 = ([11,22,33,44])\n",
    "n1 = np.asfarray(n1)\n",
    "print(n1)"
   ]
  },
  {
   "cell_type": "code",
   "execution_count": null,
   "id": "b145f4c9-cc0c-4817-96ec-fed08a60b326",
   "metadata": {},
   "outputs": [],
   "source": []
  },
  {
   "cell_type": "code",
   "execution_count": 410,
   "id": "f17ca588-7723-46e6-9c50-83f26a92127f",
   "metadata": {},
   "outputs": [],
   "source": [
    "# 23. Write a NumPy program to convert a list array.\n"
   ]
  },
  {
   "cell_type": "code",
   "execution_count": 411,
   "id": "2decb374-641f-4ab5-a26a-53966dbfcb86",
   "metadata": {},
   "outputs": [
    {
     "name": "stdout",
     "output_type": "stream",
     "text": [
      "[11 22 33 44]\n"
     ]
    }
   ],
   "source": [
    "n1 = ([11,22,33,44])\n",
    "n1 = np.array(n1)\n",
    "print(n1)"
   ]
  },
  {
   "cell_type": "code",
   "execution_count": null,
   "id": "2db27341-7c1d-4c60-96c6-c116fbb7474b",
   "metadata": {},
   "outputs": [],
   "source": []
  },
  {
   "cell_type": "code",
   "execution_count": 412,
   "id": "de0545fa-23ac-47d9-83ae-dbb5d332bc9b",
   "metadata": {},
   "outputs": [],
   "source": [
    "# 24.Write a NumPy program to get the element-wise remainder of an array of division.\n"
   ]
  },
  {
   "cell_type": "code",
   "execution_count": 413,
   "id": "aeb3d0b5-2677-4989-aa83-2362a792b818",
   "metadata": {},
   "outputs": [
    {
     "name": "stdout",
     "output_type": "stream",
     "text": [
      "[0 1 2 3 4 0 1]\n"
     ]
    }
   ],
   "source": [
    "n1 = np.arange(7)\n",
    "print(np.remainder(n1, 5)) \n"
   ]
  },
  {
   "cell_type": "code",
   "execution_count": null,
   "id": "f9157e08-e71e-489f-acce-7ad410cc50f0",
   "metadata": {},
   "outputs": [],
   "source": []
  },
  {
   "cell_type": "code",
   "execution_count": null,
   "id": "4907bebb-3750-4b46-b5bb-27c792790093",
   "metadata": {},
   "outputs": [],
   "source": [
    "# 25. Write a NumPy program to get the element-wise remainder of an array of numbers from 20 to 50 which are divisible by 3."
   ]
  },
  {
   "cell_type": "code",
   "execution_count": null,
   "id": "7e414c5a-3b83-4b8f-9eff-5fe77058fb80",
   "metadata": {},
   "outputs": [],
   "source": []
  }
 ],
 "metadata": {
  "kernelspec": {
   "display_name": "Python 3 (ipykernel)",
   "language": "python",
   "name": "python3"
  },
  "language_info": {
   "codemirror_mode": {
    "name": "ipython",
    "version": 3
   },
   "file_extension": ".py",
   "mimetype": "text/x-python",
   "name": "python",
   "nbconvert_exporter": "python",
   "pygments_lexer": "ipython3",
   "version": "3.10.12"
  }
 },
 "nbformat": 4,
 "nbformat_minor": 5
}
